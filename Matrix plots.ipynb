{
 "cells": [
  {
   "cell_type": "code",
   "execution_count": 89,
   "metadata": {},
   "outputs": [],
   "source": [
    "import h5py"
   ]
  },
  {
   "cell_type": "code",
   "execution_count": 90,
   "metadata": {},
   "outputs": [],
   "source": [
    "f_metro_scale0pt125_ob0pt5 = h5py.File(\"MH_mat_scale0pt125_ob0pt5.txt\", \"r\")\n",
    "f_metro_scale0pt25_ob0pt5 = h5py.File(\"MH_mat_scale0pt25_ob0pt5.txt\", \"r\")\n",
    "f_metro_scale0pt5_ob0pt5 = h5py.File(\"MH_mat_scale0pt5_ob0pt5.txt\", \"r\")"
   ]
  },
  {
   "cell_type": "code",
   "execution_count": 91,
   "metadata": {},
   "outputs": [],
   "source": [
    "f_gibbs_scale0pt125_ob0pt5 = h5py.File(\"GF_mat_scale0pt125_ob0pt5.txt\", \"r\")\n",
    "f_gibbs_scale0pt25_ob0pt5 = h5py.File(\"GF_mat_scale0pt25_ob0pt5.txt\", \"r\")\n",
    "f_gibbs_scale0pt5_ob0pt5 = h5py.File(\"GF_mat_scale0pt5_ob0pt5.txt\", \"r\")"
   ]
  },
  {
   "cell_type": "code",
   "execution_count": 92,
   "metadata": {},
   "outputs": [],
   "source": [
    "f_EM_scale0pt125_ob0pt5 = h5py.File(\"EM_mat_scale0pt125_ob0pt5.txt\", \"r\")\n",
    "f_EM_scale0pt25_ob0pt5 = h5py.File(\"EM_mat_scale0pt25_ob0pt5.txt\", \"r\")\n",
    "f_EM_scale0pt5_ob0pt5 = h5py.File(\"EM_mat_scale0pt5_ob0pt5.txt\", \"r\")"
   ]
  },
  {
   "cell_type": "code",
   "execution_count": 93,
   "metadata": {},
   "outputs": [],
   "source": [
    "f_metro_scale0pt25_ob1 = h5py.File(\"MH_mat_scale0pt25_ob1.txt\", \"r\")\n",
    "f_metro_scale0pt5_ob1 = h5py.File(\"MH_mat_scale0pt5_ob1.txt\", \"r\")\n",
    "f_metro_scale1_ob1 = h5py.File(\"MH_mat_scale1_ob1.txt\", \"r\")"
   ]
  },
  {
   "cell_type": "code",
   "execution_count": 94,
   "metadata": {},
   "outputs": [],
   "source": [
    "f_gibbs_scale0pt25_ob1 = h5py.File(\"GF_mat_scale0pt25_ob1.txt\", \"r\")\n",
    "f_gibbs_scale0pt5_ob1 = h5py.File(\"GF_mat_scale0pt5_ob1.txt\", \"r\")\n",
    "f_gibbs_scale1_ob1 = h5py.File(\"GF_mat_scale1_ob1.txt\", \"r\")"
   ]
  },
  {
   "cell_type": "code",
   "execution_count": 95,
   "metadata": {},
   "outputs": [],
   "source": [
    "f_EM_scale0pt25_ob1 = h5py.File(\"EM_mat_scale0pt25_ob1.txt\", \"r\")\n",
    "f_EM_scale0pt5_ob1 = h5py.File(\"EM_mat_scale0pt5_ob1.txt\", \"r\")\n",
    "f_EM_scale1_ob1 = h5py.File(\"EM_mat_scale1_ob1.txt\", \"r\")"
   ]
  },
  {
   "cell_type": "code",
   "execution_count": 96,
   "metadata": {},
   "outputs": [],
   "source": [
    "f_metro_scale0pt5_ob2 = h5py.File(\"MH_mat_scale0pt5_ob2.txt\", \"r\")\n",
    "f_metro_scale1_ob2 = h5py.File(\"MH_mat_scale1_ob2.txt\", \"r\")\n",
    "f_metro_scale2_ob2 = h5py.File(\"MH_mat_scale2_ob2.txt\", \"r\")"
   ]
  },
  {
   "cell_type": "code",
   "execution_count": 97,
   "metadata": {},
   "outputs": [],
   "source": [
    "f_gibbs_scale0pt5_ob2 = h5py.File(\"GF_mat_scale0pt5_ob2.txt\", \"r\")\n",
    "f_gibbs_scale1_ob2 = h5py.File(\"GF_mat_scale1_ob2.txt\", \"r\")\n",
    "f_gibbs_scale2_ob2 = h5py.File(\"GF_mat_scale2_ob2.txt\", \"r\")"
   ]
  },
  {
   "cell_type": "code",
   "execution_count": 98,
   "metadata": {},
   "outputs": [],
   "source": [
    "f_EM_scale0pt5_ob2 = h5py.File(\"EM_mat_scale0pt5_ob2.txt\", \"r\")\n",
    "f_EM_scale1_ob2 = h5py.File(\"EM_mat_scale1_ob2.txt\", \"r\")\n",
    "f_EM_scale2_ob2 = h5py.File(\"EM_mat_scale2_ob2.txt\", \"r\")"
   ]
  },
  {
   "cell_type": "code",
   "execution_count": 99,
   "metadata": {},
   "outputs": [],
   "source": [
    "M_metro_scale0pt125_ob0pt5 = f_metro_scale0pt125_ob0pt5[\"MH_mat_scale0pt125_ob0pt5\"][()]\n",
    "M_metro_scale0pt25_ob0pt5 = f_metro_scale0pt25_ob0pt5[\"MH_mat_scale0pt25_ob0pt5\"][()]\n",
    "M_metro_scale0pt5_ob0pt5 = f_metro_scale0pt5_ob0pt5[\"MH_mat_scale0pt5_ob0pt5\"][()]"
   ]
  },
  {
   "cell_type": "code",
   "execution_count": 100,
   "metadata": {},
   "outputs": [],
   "source": [
    "M_gibbs_scale0pt125_ob0pt5 = f_gibbs_scale0pt125_ob0pt5[\"GF_mat_scale0pt125_ob0pt5\"][()]\n",
    "M_gibbs_scale0pt25_ob0pt5 = f_gibbs_scale0pt25_ob0pt5[\"GF_mat_scale0pt25_ob0pt5\"][()]\n",
    "M_gibbs_scale0pt5_ob0pt5 = f_gibbs_scale0pt5_ob0pt5[\"GF_mat_scale0pt5_ob0pt5\"][()]"
   ]
  },
  {
   "cell_type": "code",
   "execution_count": 101,
   "metadata": {},
   "outputs": [],
   "source": [
    "M_EM_scale0pt125_ob0pt5 = f_EM_scale0pt125_ob0pt5[\"EM_mat_scale0pt125_ob0pt5\"][()]\n",
    "M_EM_scale0pt25_ob0pt5 = f_EM_scale0pt25_ob0pt5[\"EM_mat_scale0pt25_ob0pt5\"][()]\n",
    "M_EM_scale0pt5_ob0pt5 = f_EM_scale0pt5_ob0pt5[\"EM_mat_scale0pt5_ob0pt5\"][()]"
   ]
  },
  {
   "cell_type": "code",
   "execution_count": 102,
   "metadata": {},
   "outputs": [],
   "source": [
    "M_metro_scale0pt25_ob1 = f_metro_scale0pt25_ob1[\"MH_mat_scale0pt25_ob1\"][()]\n",
    "M_metro_scale0pt5_ob1 = f_metro_scale0pt5_ob1[\"MH_mat_scale0pt5_ob1\"][()]\n",
    "M_metro_scale1_ob1 = f_metro_scale1_ob1[\"MH_mat_scale1_ob1\"][()]"
   ]
  },
  {
   "cell_type": "code",
   "execution_count": 15,
   "metadata": {},
   "outputs": [],
   "source": [
    "M_gibbs_scale0pt25_ob1 = f_gibbs_scale0pt25_ob1[\"GF_mat_scale0pt25_ob1\"][()]\n",
    "M_gibbs_scale0pt5_ob1 = f_gibbs_scale0pt5_ob1[\"GF_mat_scale0pt5_ob1\"][()]\n",
    "M_gibbs_scale1_ob1 = f_gibbs_scale1_ob1[\"GF_mat_scale1_ob1\"][()]"
   ]
  },
  {
   "cell_type": "code",
   "execution_count": 16,
   "metadata": {},
   "outputs": [],
   "source": [
    "M_EM_scale0pt25_ob1 = f_EM_scale0pt25_ob1[\"EM_mat_scale0pt25_ob1\"][()]\n",
    "M_EM_scale0pt5_ob1 = f_EM_scale0pt5_ob1[\"EM_mat_scale0pt5_ob1\"][()]\n",
    "M_EM_scale1_ob1 = f_EM_scale1_ob1[\"EM_mat_scale1_ob1\"][()]"
   ]
  },
  {
   "cell_type": "code",
   "execution_count": 17,
   "metadata": {},
   "outputs": [],
   "source": [
    "M_metro_scale0pt5_ob2 = f_metro_scale0pt5_ob2[\"MH_mat_scale0pt5_ob2\"][()]\n",
    "M_metro_scale1_ob2 = f_metro_scale1_ob2[\"MH_mat_scale1_ob2\"][()]\n",
    "M_metro_scale2_ob2 = f_metro_scale2_ob2[\"MH_mat_scale2_ob2\"][()]"
   ]
  },
  {
   "cell_type": "code",
   "execution_count": 18,
   "metadata": {},
   "outputs": [],
   "source": [
    "M_gibbs_scale0pt5_ob2 = f_gibbs_scale0pt5_ob2[\"GF_mat_scale0pt5_ob2\"][()]\n",
    "M_gibbs_scale1_ob2 = f_gibbs_scale1_ob2[\"GF_mat_scale1_ob2\"][()]\n",
    "M_gibbs_scale2_ob2 = f_gibbs_scale2_ob2[\"GF_mat_scale2_ob2\"][()]"
   ]
  },
  {
   "cell_type": "code",
   "execution_count": 19,
   "metadata": {},
   "outputs": [],
   "source": [
    "M_EM_scale0pt5_ob2 = f_EM_scale0pt5_ob2[\"EM_mat_scale0pt5_ob2\"][()]\n",
    "M_EM_scale1_ob2 = f_EM_scale1_ob2[\"EM_mat_scale1_ob2\"][()]\n",
    "M_EM_scale2_ob2 = f_EM_scale2_ob2[\"EM_mat_scale2_ob2\"][()]"
   ]
  },
  {
   "cell_type": "code",
   "execution_count": 20,
   "metadata": {},
   "outputs": [],
   "source": [
    "import pandas as pd"
   ]
  },
  {
   "cell_type": "code",
   "execution_count": 21,
   "metadata": {},
   "outputs": [],
   "source": [
    "import numpy as np; np.random.seed(0)\n",
    "import seaborn as sns; sns.set()\n",
    "import matplotlib.pyplot as plt"
   ]
  },
  {
   "cell_type": "code",
   "execution_count": 22,
   "metadata": {},
   "outputs": [],
   "source": [
    "df_metro_scale0pt125_ob0pt5 = pd.DataFrame.from_records(M_metro_scale0pt125_ob0pt5)\n",
    "df_metro_scale0pt125_ob0pt5.columns = [\"1\",\"2\",\"3\",\"4\",\"5\"]\n",
    "df_metro_scale0pt125_ob0pt5.index = [\"1\",\"2\",\"3\",\"4\",\"5\"]"
   ]
  },
  {
   "cell_type": "code",
   "execution_count": 23,
   "metadata": {},
   "outputs": [],
   "source": [
    "df_metro_scale0pt25_ob0pt5 = pd.DataFrame.from_records(M_metro_scale0pt25_ob0pt5)\n",
    "df_metro_scale0pt25_ob0pt5.columns = [\"1\",\"2\",\"3\",\"4\",\"5\"]\n",
    "df_metro_scale0pt25_ob0pt5.index = [\"1\",\"2\",\"3\",\"4\",\"5\"]"
   ]
  },
  {
   "cell_type": "code",
   "execution_count": 24,
   "metadata": {},
   "outputs": [],
   "source": [
    "df_metro_scale0pt5_ob0pt5 = pd.DataFrame.from_records(M_metro_scale0pt5_ob0pt5)\n",
    "df_metro_scale0pt5_ob0pt5.columns = [\"1\",\"2\",\"3\",\"4\",\"5\"]\n",
    "df_metro_scale0pt5_ob0pt5.index = [\"1\",\"2\",\"3\",\"4\",\"5\"]"
   ]
  },
  {
   "cell_type": "code",
   "execution_count": 25,
   "metadata": {},
   "outputs": [],
   "source": [
    "df_metro_scale0pt25_ob1 = pd.DataFrame.from_records(M_metro_scale0pt25_ob1)\n",
    "df_metro_scale0pt25_ob1.columns = [\"1\",\"2\",\"3\",\"4\",\"5\"]\n",
    "df_metro_scale0pt25_ob1.index = [\"1\",\"2\",\"3\",\"4\",\"5\"]"
   ]
  },
  {
   "cell_type": "code",
   "execution_count": 26,
   "metadata": {},
   "outputs": [],
   "source": [
    "df_metro_scale0pt5_ob1 = pd.DataFrame.from_records(M_metro_scale0pt5_ob1)\n",
    "df_metro_scale0pt5_ob1.columns = [\"1\",\"2\",\"3\",\"4\",\"5\"]\n",
    "df_metro_scale0pt5_ob1.index = [\"1\",\"2\",\"3\",\"4\",\"5\"]"
   ]
  },
  {
   "cell_type": "code",
   "execution_count": 27,
   "metadata": {},
   "outputs": [],
   "source": [
    "df_metro_scale1_ob1 = pd.DataFrame.from_records(M_metro_scale1_ob1)\n",
    "df_metro_scale1_ob1.columns = [\"1\",\"2\",\"3\",\"4\",\"5\"]\n",
    "df_metro_scale1_ob1.index = [\"1\",\"2\",\"3\",\"4\",\"5\"]"
   ]
  },
  {
   "cell_type": "code",
   "execution_count": 28,
   "metadata": {},
   "outputs": [],
   "source": [
    "df_metro_scale0pt5_ob2 = pd.DataFrame.from_records(M_metro_scale0pt5_ob2)\n",
    "df_metro_scale0pt5_ob2.columns = [\"1\",\"2\",\"3\",\"4\",\"5\"]\n",
    "df_metro_scale0pt5_ob2.index = [\"1\",\"2\",\"3\",\"4\",\"5\"]"
   ]
  },
  {
   "cell_type": "code",
   "execution_count": 29,
   "metadata": {},
   "outputs": [],
   "source": [
    "df_metro_scale1_ob2 = pd.DataFrame.from_records(M_metro_scale1_ob2)\n",
    "df_metro_scale1_ob2.columns = [\"1\",\"2\",\"3\",\"4\",\"5\"]\n",
    "df_metro_scale1_ob2.index = [\"1\",\"2\",\"3\",\"4\",\"5\"]"
   ]
  },
  {
   "cell_type": "code",
   "execution_count": 30,
   "metadata": {},
   "outputs": [],
   "source": [
    "df_metro_scale2_ob2 = pd.DataFrame.from_records(M_metro_scale2_ob2)\n",
    "df_metro_scale2_ob2.columns = [\"1\",\"2\",\"3\",\"4\",\"5\"]\n",
    "df_metro_scale2_ob2.index = [\"1\",\"2\",\"3\",\"4\",\"5\"]"
   ]
  },
  {
   "cell_type": "code",
   "execution_count": 31,
   "metadata": {},
   "outputs": [],
   "source": [
    "df_gibbs_scale0pt125_ob0pt5 = pd.DataFrame.from_records(M_gibbs_scale0pt125_ob0pt5)\n",
    "df_gibbs_scale0pt125_ob0pt5.columns = [\"1\",\"2\",\"3\",\"4\",\"5\"]\n",
    "df_gibbs_scale0pt125_ob0pt5.index = [\"1\",\"2\",\"3\",\"4\",\"5\"]"
   ]
  },
  {
   "cell_type": "code",
   "execution_count": 32,
   "metadata": {},
   "outputs": [],
   "source": [
    "df_gibbs_scale0pt25_ob0pt5 = pd.DataFrame.from_records(M_gibbs_scale0pt25_ob0pt5)\n",
    "df_gibbs_scale0pt25_ob0pt5.columns = [\"1\",\"2\",\"3\",\"4\",\"5\"]\n",
    "df_gibbs_scale0pt25_ob0pt5.index = [\"1\",\"2\",\"3\",\"4\",\"5\"]"
   ]
  },
  {
   "cell_type": "code",
   "execution_count": 33,
   "metadata": {},
   "outputs": [],
   "source": [
    "df_gibbs_scale0pt5_ob0pt5 = pd.DataFrame.from_records(M_gibbs_scale0pt5_ob0pt5)\n",
    "df_gibbs_scale0pt5_ob0pt5.columns = [\"1\",\"2\",\"3\",\"4\",\"5\"]\n",
    "df_gibbs_scale0pt5_ob0pt5.index = [\"1\",\"2\",\"3\",\"4\",\"5\"]"
   ]
  },
  {
   "cell_type": "code",
   "execution_count": 34,
   "metadata": {},
   "outputs": [],
   "source": [
    "df_gibbs_scale0pt25_ob1 = pd.DataFrame.from_records(M_gibbs_scale0pt25_ob1)\n",
    "df_gibbs_scale0pt25_ob1.columns = [\"1\",\"2\",\"3\",\"4\",\"5\"]\n",
    "df_gibbs_scale0pt25_ob1.index = [\"1\",\"2\",\"3\",\"4\",\"5\"]"
   ]
  },
  {
   "cell_type": "code",
   "execution_count": 35,
   "metadata": {},
   "outputs": [],
   "source": [
    "df_gibbs_scale0pt5_ob1 = pd.DataFrame.from_records(M_gibbs_scale0pt5_ob1)\n",
    "df_gibbs_scale0pt5_ob1.columns = [\"1\",\"2\",\"3\",\"4\",\"5\"]\n",
    "df_gibbs_scale0pt5_ob1.index = [\"1\",\"2\",\"3\",\"4\",\"5\"]"
   ]
  },
  {
   "cell_type": "code",
   "execution_count": 36,
   "metadata": {},
   "outputs": [],
   "source": [
    "df_gibbs_scale1_ob1 = pd.DataFrame.from_records(M_gibbs_scale1_ob1)\n",
    "df_gibbs_scale1_ob1.columns = [\"1\",\"2\",\"3\",\"4\",\"5\"]\n",
    "df_gibbs_scale1_ob1.index = [\"1\",\"2\",\"3\",\"4\",\"5\"]"
   ]
  },
  {
   "cell_type": "code",
   "execution_count": 37,
   "metadata": {},
   "outputs": [],
   "source": [
    "df_gibbs_scale0pt5_ob2 = pd.DataFrame.from_records(M_gibbs_scale0pt5_ob2)\n",
    "df_gibbs_scale0pt5_ob2.columns = [\"1\",\"2\",\"3\",\"4\",\"5\"]\n",
    "df_gibbs_scale0pt5_ob2.index = [\"1\",\"2\",\"3\",\"4\",\"5\"]"
   ]
  },
  {
   "cell_type": "code",
   "execution_count": 38,
   "metadata": {},
   "outputs": [],
   "source": [
    "df_gibbs_scale1_ob2 = pd.DataFrame.from_records(M_gibbs_scale1_ob2)\n",
    "df_gibbs_scale1_ob2.columns = [\"1\",\"2\",\"3\",\"4\",\"5\"]\n",
    "df_gibbs_scale1_ob2.index = [\"1\",\"2\",\"3\",\"4\",\"5\"]"
   ]
  },
  {
   "cell_type": "code",
   "execution_count": 39,
   "metadata": {},
   "outputs": [],
   "source": [
    "df_gibbs_scale2_ob2 = pd.DataFrame.from_records(M_gibbs_scale2_ob2)\n",
    "df_gibbs_scale2_ob2.columns = [\"1\",\"2\",\"3\",\"4\",\"5\"]\n",
    "df_gibbs_scale2_ob2.index = [\"1\",\"2\",\"3\",\"4\",\"5\"]"
   ]
  },
  {
   "cell_type": "code",
   "execution_count": 40,
   "metadata": {},
   "outputs": [],
   "source": [
    "df_EM_scale0pt125_ob0pt5 = pd.DataFrame.from_records(M_EM_scale0pt125_ob0pt5)\n",
    "df_EM_scale0pt125_ob0pt5.columns = [\"1\",\"2\",\"3\",\"4\",\"5\"]\n",
    "df_EM_scale0pt125_ob0pt5.index = [\"1\",\"2\",\"3\",\"4\",\"5\"]"
   ]
  },
  {
   "cell_type": "code",
   "execution_count": 41,
   "metadata": {},
   "outputs": [],
   "source": [
    "df_EM_scale0pt25_ob0pt5 = pd.DataFrame.from_records(M_EM_scale0pt25_ob0pt5)\n",
    "df_EM_scale0pt25_ob0pt5.columns = [\"1\",\"2\",\"3\",\"4\",\"5\"]\n",
    "df_EM_scale0pt25_ob0pt5.index = [\"1\",\"2\",\"3\",\"4\",\"5\"]"
   ]
  },
  {
   "cell_type": "code",
   "execution_count": 42,
   "metadata": {},
   "outputs": [],
   "source": [
    "df_EM_scale0pt5_ob0pt5 = pd.DataFrame.from_records(M_EM_scale0pt5_ob0pt5)\n",
    "df_EM_scale0pt5_ob0pt5.columns = [\"1\",\"2\",\"3\",\"4\",\"5\"]\n",
    "df_EM_scale0pt5_ob0pt5.index = [\"1\",\"2\",\"3\",\"4\",\"5\"]"
   ]
  },
  {
   "cell_type": "code",
   "execution_count": 43,
   "metadata": {},
   "outputs": [],
   "source": [
    "df_EM_scale0pt25_ob1 = pd.DataFrame.from_records(M_EM_scale0pt25_ob1)\n",
    "df_EM_scale0pt25_ob1.columns = [\"1\",\"2\",\"3\",\"4\",\"5\"]\n",
    "df_EM_scale0pt25_ob1.index = [\"1\",\"2\",\"3\",\"4\",\"5\"]"
   ]
  },
  {
   "cell_type": "code",
   "execution_count": 44,
   "metadata": {},
   "outputs": [],
   "source": [
    "df_EM_scale0pt5_ob1 = pd.DataFrame.from_records(M_EM_scale0pt5_ob1)\n",
    "df_EM_scale0pt5_ob1.columns = [\"1\",\"2\",\"3\",\"4\",\"5\"]\n",
    "df_EM_scale0pt5_ob1.index = [\"1\",\"2\",\"3\",\"4\",\"5\"]"
   ]
  },
  {
   "cell_type": "code",
   "execution_count": 45,
   "metadata": {},
   "outputs": [],
   "source": [
    "df_EM_scale1_ob1 = pd.DataFrame.from_records(M_EM_scale1_ob1)\n",
    "df_EM_scale1_ob1.columns = [\"1\",\"2\",\"3\",\"4\",\"5\"]\n",
    "df_EM_scale1_ob1.index = [\"1\",\"2\",\"3\",\"4\",\"5\"]"
   ]
  },
  {
   "cell_type": "code",
   "execution_count": 46,
   "metadata": {},
   "outputs": [],
   "source": [
    "df_EM_scale0pt5_ob2 = pd.DataFrame.from_records(M_EM_scale0pt5_ob2)\n",
    "df_EM_scale0pt5_ob2.columns = [\"1\",\"2\",\"3\",\"4\",\"5\"]\n",
    "df_EM_scale0pt5_ob2.index = [\"1\",\"2\",\"3\",\"4\",\"5\"]"
   ]
  },
  {
   "cell_type": "code",
   "execution_count": 47,
   "metadata": {},
   "outputs": [],
   "source": [
    "df_EM_scale1_ob2 = pd.DataFrame.from_records(M_EM_scale1_ob2)\n",
    "df_EM_scale1_ob2.columns = [\"1\",\"2\",\"3\",\"4\",\"5\"]\n",
    "df_EM_scale1_ob2.index = [\"1\",\"2\",\"3\",\"4\",\"5\"]"
   ]
  },
  {
   "cell_type": "code",
   "execution_count": 48,
   "metadata": {},
   "outputs": [],
   "source": [
    "df_EM_scale2_ob2 = pd.DataFrame.from_records(M_EM_scale2_ob2)\n",
    "df_EM_scale2_ob2.columns = [\"1\",\"2\",\"3\",\"4\",\"5\"]\n",
    "df_EM_scale2_ob2.index = [\"1\",\"2\",\"3\",\"4\",\"5\"]"
   ]
  },
  {
   "cell_type": "code",
   "execution_count": 49,
   "metadata": {},
   "outputs": [],
   "source": [
    "def true_mat(n,d):\n",
    "    A = pd.DataFrame(np.zeros((n,n)))\n",
    "    for i in range(n):\n",
    "        A[i][i] = -d\n",
    "        for j in list(range(i)) + list(range(i+1,n)):\n",
    "            A[i][j] = d/(n-1)\n",
    "    return A"
   ]
  },
  {
   "cell_type": "code",
   "execution_count": 50,
   "metadata": {},
   "outputs": [
    {
     "data": {
      "text/plain": [
       "8.0"
      ]
     },
     "execution_count": 50,
     "metadata": {},
     "output_type": "execute_result"
    }
   ],
   "source": [
    "1/0.125"
   ]
  },
  {
   "cell_type": "code",
   "execution_count": 51,
   "metadata": {},
   "outputs": [],
   "source": [
    "df_true_scale0pt125 = true_mat(5,8)\n",
    "df_true_scale0pt125.columns = [\"1\",\"2\",\"3\",\"4\",\"5\"]\n",
    "df_true_scale0pt125.index = [\"1\",\"2\",\"3\",\"4\",\"5\"]"
   ]
  },
  {
   "cell_type": "code",
   "execution_count": 52,
   "metadata": {},
   "outputs": [
    {
     "data": {
      "text/plain": [
       "4.0"
      ]
     },
     "execution_count": 52,
     "metadata": {},
     "output_type": "execute_result"
    }
   ],
   "source": [
    "1/0.25"
   ]
  },
  {
   "cell_type": "code",
   "execution_count": 53,
   "metadata": {},
   "outputs": [],
   "source": [
    "df_true_scale0pt25 = true_mat(5,4)\n",
    "df_true_scale0pt25.columns = [\"1\",\"2\",\"3\",\"4\",\"5\"]\n",
    "df_true_scale0pt25.index = [\"1\",\"2\",\"3\",\"4\",\"5\"]"
   ]
  },
  {
   "cell_type": "code",
   "execution_count": 54,
   "metadata": {},
   "outputs": [
    {
     "data": {
      "text/plain": [
       "2.0"
      ]
     },
     "execution_count": 54,
     "metadata": {},
     "output_type": "execute_result"
    }
   ],
   "source": [
    "1/0.5"
   ]
  },
  {
   "cell_type": "code",
   "execution_count": 55,
   "metadata": {},
   "outputs": [],
   "source": [
    "df_true_scale0pt5 = true_mat(5,2)\n",
    "df_true_scale0pt5.columns = [\"1\",\"2\",\"3\",\"4\",\"5\"]\n",
    "df_true_scale0pt5.index = [\"1\",\"2\",\"3\",\"4\",\"5\"]"
   ]
  },
  {
   "cell_type": "code",
   "execution_count": 56,
   "metadata": {},
   "outputs": [
    {
     "data": {
      "text/plain": [
       "1.0"
      ]
     },
     "execution_count": 56,
     "metadata": {},
     "output_type": "execute_result"
    }
   ],
   "source": [
    "1/1"
   ]
  },
  {
   "cell_type": "code",
   "execution_count": 57,
   "metadata": {},
   "outputs": [],
   "source": [
    "df_true_scale1 = true_mat(5,1)\n",
    "df_true_scale1.columns = [\"1\",\"2\",\"3\",\"4\",\"5\"]\n",
    "df_true_scale1.index = [\"1\",\"2\",\"3\",\"4\",\"5\"]"
   ]
  },
  {
   "cell_type": "code",
   "execution_count": 58,
   "metadata": {},
   "outputs": [
    {
     "data": {
      "text/plain": [
       "0.5"
      ]
     },
     "execution_count": 58,
     "metadata": {},
     "output_type": "execute_result"
    }
   ],
   "source": [
    "1/2"
   ]
  },
  {
   "cell_type": "code",
   "execution_count": 59,
   "metadata": {},
   "outputs": [],
   "source": [
    "df_true_scale2 = true_mat(5,0.5)\n",
    "df_true_scale2.columns = [\"1\",\"2\",\"3\",\"4\",\"5\"]\n",
    "df_true_scale2.index = [\"1\",\"2\",\"3\",\"4\",\"5\"]"
   ]
  },
  {
   "cell_type": "code",
   "execution_count": 60,
   "metadata": {},
   "outputs": [],
   "source": [
    "def frobenius(A,B):\n",
    "    return np.sqrt( ((( A - B )**2).sum()).sum() )"
   ]
  },
  {
   "cell_type": "code",
   "execution_count": 61,
   "metadata": {},
   "outputs": [
    {
     "data": {
      "text/plain": [
       "5.792257540157747"
      ]
     },
     "execution_count": 61,
     "metadata": {},
     "output_type": "execute_result"
    }
   ],
   "source": [
    "frobenius(df_true_scale0pt125,df_metro_scale0pt125_ob0pt5)"
   ]
  },
  {
   "cell_type": "code",
   "execution_count": 62,
   "metadata": {},
   "outputs": [
    {
     "data": {
      "text/plain": [
       "6.639890083677068"
      ]
     },
     "execution_count": 62,
     "metadata": {},
     "output_type": "execute_result"
    }
   ],
   "source": [
    "frobenius(df_true_scale0pt125,df_gibbs_scale0pt125_ob0pt5)"
   ]
  },
  {
   "cell_type": "code",
   "execution_count": 63,
   "metadata": {},
   "outputs": [
    {
     "data": {
      "text/plain": [
       "4.387346095464816"
      ]
     },
     "execution_count": 63,
     "metadata": {},
     "output_type": "execute_result"
    }
   ],
   "source": [
    "frobenius(df_true_scale0pt125,df_EM_scale0pt125_ob0pt5)"
   ]
  },
  {
   "cell_type": "code",
   "execution_count": 64,
   "metadata": {},
   "outputs": [
    {
     "data": {
      "text/plain": [
       "1.2246650704063788"
      ]
     },
     "execution_count": 64,
     "metadata": {},
     "output_type": "execute_result"
    }
   ],
   "source": [
    "frobenius(df_true_scale0pt25,df_metro_scale0pt25_ob0pt5)"
   ]
  },
  {
   "cell_type": "code",
   "execution_count": 65,
   "metadata": {},
   "outputs": [
    {
     "data": {
      "text/plain": [
       "1.0471958676406048"
      ]
     },
     "execution_count": 65,
     "metadata": {},
     "output_type": "execute_result"
    }
   ],
   "source": [
    "frobenius(df_true_scale0pt25,df_gibbs_scale0pt25_ob0pt5)"
   ]
  },
  {
   "cell_type": "code",
   "execution_count": 66,
   "metadata": {},
   "outputs": [
    {
     "data": {
      "text/plain": [
       "0.9696322536942513"
      ]
     },
     "execution_count": 66,
     "metadata": {},
     "output_type": "execute_result"
    }
   ],
   "source": [
    "frobenius(df_true_scale0pt25,df_EM_scale0pt25_ob0pt5)"
   ]
  },
  {
   "cell_type": "code",
   "execution_count": 67,
   "metadata": {},
   "outputs": [
    {
     "data": {
      "text/plain": [
       "0.3202290293688325"
      ]
     },
     "execution_count": 67,
     "metadata": {},
     "output_type": "execute_result"
    }
   ],
   "source": [
    "frobenius(df_true_scale0pt5,df_metro_scale0pt5_ob0pt5)"
   ]
  },
  {
   "cell_type": "code",
   "execution_count": 68,
   "metadata": {},
   "outputs": [
    {
     "data": {
      "text/plain": [
       "0.32241907924944757"
      ]
     },
     "execution_count": 68,
     "metadata": {},
     "output_type": "execute_result"
    }
   ],
   "source": [
    "frobenius(df_true_scale0pt5,df_gibbs_scale0pt5_ob0pt5)"
   ]
  },
  {
   "cell_type": "code",
   "execution_count": 69,
   "metadata": {},
   "outputs": [
    {
     "data": {
      "text/plain": [
       "0.31362765736325826"
      ]
     },
     "execution_count": 69,
     "metadata": {},
     "output_type": "execute_result"
    }
   ],
   "source": [
    "frobenius(df_true_scale0pt5,df_EM_scale0pt5_ob0pt5)"
   ]
  },
  {
   "cell_type": "code",
   "execution_count": 70,
   "metadata": {},
   "outputs": [
    {
     "data": {
      "text/plain": [
       "3.566073939681405"
      ]
     },
     "execution_count": 70,
     "metadata": {},
     "output_type": "execute_result"
    }
   ],
   "source": [
    "frobenius(df_true_scale0pt25,df_metro_scale0pt25_ob1)"
   ]
  },
  {
   "cell_type": "code",
   "execution_count": 71,
   "metadata": {},
   "outputs": [
    {
     "data": {
      "text/plain": [
       "3.8773032390654514"
      ]
     },
     "execution_count": 71,
     "metadata": {},
     "output_type": "execute_result"
    }
   ],
   "source": [
    "frobenius(df_true_scale0pt25,df_gibbs_scale0pt25_ob1)"
   ]
  },
  {
   "cell_type": "code",
   "execution_count": 72,
   "metadata": {},
   "outputs": [
    {
     "data": {
      "text/plain": [
       "2.3316456536610275"
      ]
     },
     "execution_count": 72,
     "metadata": {},
     "output_type": "execute_result"
    }
   ],
   "source": [
    "frobenius(df_true_scale0pt25,df_EM_scale0pt25_ob1)"
   ]
  },
  {
   "cell_type": "code",
   "execution_count": 73,
   "metadata": {},
   "outputs": [
    {
     "data": {
      "text/plain": [
       "1.7087296522537847"
      ]
     },
     "execution_count": 73,
     "metadata": {},
     "output_type": "execute_result"
    }
   ],
   "source": [
    "frobenius(df_true_scale0pt5,df_metro_scale0pt5_ob1)"
   ]
  },
  {
   "cell_type": "code",
   "execution_count": 74,
   "metadata": {},
   "outputs": [
    {
     "data": {
      "text/plain": [
       "2.5025566971863817"
      ]
     },
     "execution_count": 74,
     "metadata": {},
     "output_type": "execute_result"
    }
   ],
   "source": [
    "frobenius(df_true_scale0pt5,df_gibbs_scale0pt5_ob1)"
   ]
  },
  {
   "cell_type": "code",
   "execution_count": 75,
   "metadata": {},
   "outputs": [
    {
     "data": {
      "text/plain": [
       "0.7307765617859407"
      ]
     },
     "execution_count": 75,
     "metadata": {},
     "output_type": "execute_result"
    }
   ],
   "source": [
    "frobenius(df_true_scale0pt5,df_EM_scale0pt5_ob1)"
   ]
  },
  {
   "cell_type": "code",
   "execution_count": 76,
   "metadata": {},
   "outputs": [
    {
     "data": {
      "text/plain": [
       "0.23583970697152187"
      ]
     },
     "execution_count": 76,
     "metadata": {},
     "output_type": "execute_result"
    }
   ],
   "source": [
    "frobenius(df_true_scale1,df_metro_scale1_ob1)"
   ]
  },
  {
   "cell_type": "code",
   "execution_count": 77,
   "metadata": {},
   "outputs": [
    {
     "data": {
      "text/plain": [
       "0.23930338715051525"
      ]
     },
     "execution_count": 77,
     "metadata": {},
     "output_type": "execute_result"
    }
   ],
   "source": [
    "frobenius(df_true_scale1,df_gibbs_scale1_ob1)"
   ]
  },
  {
   "cell_type": "code",
   "execution_count": 78,
   "metadata": {},
   "outputs": [
    {
     "data": {
      "text/plain": [
       "0.22350125878496693"
      ]
     },
     "execution_count": 78,
     "metadata": {},
     "output_type": "execute_result"
    }
   ],
   "source": [
    "frobenius(df_true_scale1,df_EM_scale1_ob1)"
   ]
  },
  {
   "cell_type": "code",
   "execution_count": 79,
   "metadata": {},
   "outputs": [
    {
     "data": {
      "text/plain": [
       "2.121164926712707"
      ]
     },
     "execution_count": 79,
     "metadata": {},
     "output_type": "execute_result"
    }
   ],
   "source": [
    "frobenius(df_true_scale0pt5,df_metro_scale0pt5_ob2)"
   ]
  },
  {
   "cell_type": "code",
   "execution_count": 80,
   "metadata": {},
   "outputs": [
    {
     "data": {
      "text/plain": [
       "1.8128970176513306"
      ]
     },
     "execution_count": 80,
     "metadata": {},
     "output_type": "execute_result"
    }
   ],
   "source": [
    "frobenius(df_true_scale0pt5,df_gibbs_scale0pt5_ob2)"
   ]
  },
  {
   "cell_type": "code",
   "execution_count": 81,
   "metadata": {},
   "outputs": [
    {
     "data": {
      "text/plain": [
       "1.4433868072330647"
      ]
     },
     "execution_count": 81,
     "metadata": {},
     "output_type": "execute_result"
    }
   ],
   "source": [
    "frobenius(df_true_scale0pt5,df_EM_scale0pt5_ob2)"
   ]
  },
  {
   "cell_type": "code",
   "execution_count": 82,
   "metadata": {},
   "outputs": [
    {
     "data": {
      "text/plain": [
       "0.6752277297832501"
      ]
     },
     "execution_count": 82,
     "metadata": {},
     "output_type": "execute_result"
    }
   ],
   "source": [
    "frobenius(df_true_scale1,df_metro_scale1_ob2)"
   ]
  },
  {
   "cell_type": "code",
   "execution_count": 83,
   "metadata": {},
   "outputs": [
    {
     "data": {
      "text/plain": [
       "3.463937092981369"
      ]
     },
     "execution_count": 83,
     "metadata": {},
     "output_type": "execute_result"
    }
   ],
   "source": [
    "frobenius(df_true_scale1,df_gibbs_scale1_ob2)"
   ]
  },
  {
   "cell_type": "code",
   "execution_count": 84,
   "metadata": {},
   "outputs": [
    {
     "data": {
      "text/plain": [
       "0.2973460735663627"
      ]
     },
     "execution_count": 84,
     "metadata": {},
     "output_type": "execute_result"
    }
   ],
   "source": [
    "frobenius(df_true_scale1,df_EM_scale1_ob2)"
   ]
  },
  {
   "cell_type": "code",
   "execution_count": 85,
   "metadata": {},
   "outputs": [
    {
     "data": {
      "text/plain": [
       "0.10484870390360493"
      ]
     },
     "execution_count": 85,
     "metadata": {},
     "output_type": "execute_result"
    }
   ],
   "source": [
    "frobenius(df_true_scale2,df_metro_scale2_ob2)"
   ]
  },
  {
   "cell_type": "code",
   "execution_count": 86,
   "metadata": {},
   "outputs": [
    {
     "data": {
      "text/plain": [
       "0.10333278792848612"
      ]
     },
     "execution_count": 86,
     "metadata": {},
     "output_type": "execute_result"
    }
   ],
   "source": [
    "frobenius(df_true_scale2,df_gibbs_scale2_ob2)"
   ]
  },
  {
   "cell_type": "code",
   "execution_count": 87,
   "metadata": {},
   "outputs": [
    {
     "data": {
      "text/plain": [
       "0.10598165949581759"
      ]
     },
     "execution_count": 87,
     "metadata": {},
     "output_type": "execute_result"
    }
   ],
   "source": [
    "frobenius(df_true_scale2,df_EM_scale2_ob2)"
   ]
  },
  {
   "cell_type": "code",
   "execution_count": 88,
   "metadata": {},
   "outputs": [
    {
     "data": {
      "text/plain": [
       "[Text(0.5, 21.5, 'To'), Text(66.5, 0.5, 'From')]"
      ]
     },
     "execution_count": 88,
     "metadata": {},
     "output_type": "execute_result"
    },
    {
     "data": {
      "image/png": "[encoded data removed]",
      "text/plain": [
       "<Figure size 720x360 with 2 Axes>"
      ]
     },
     "metadata": {},
     "output_type": "display_data"
    }
   ],
   "source": [
    "plt.figure(figsize = (10,5))\n",
    "norm = plt.Normalize(-0.5,0.25)\n",
    "ax = sns.heatmap(df_metro_scale0pt125_ob0pt5, annot=True, fmt=\".3f\", vmin=-0.5, vmax=0.25,center=0.0, cmap=plt.cm.RdGy, norm=norm)\n",
    "ax.set_title('Mean generator matrix for Gibbs sampler 2 chain', fontsize='large')\n",
    "ax.set(xlabel='To', ylabel='From')"
   ]
  },
  {
   "cell_type": "code",
   "execution_count": null,
   "metadata": {},
   "outputs": [],
   "source": [
    "plt.figure(figsize = (10,5))\n",
    "\n",
    "norm = plt.Normalize(-0.5,0.25)\n",
    "ax = sns.heatmap( df_metro_scale0pt125_ob0pt5, annot=True, fmt=\".3f\", vmin=-0.5, vmax=0.25, center=0.0, cmap=plt.cm.RdGy, norm=norm)\n",
    "ax.set_title('Mean generator matrix for Metropolis-Hastings chain', fontsize='large')\n",
    "ax.set(xlabel='To', ylabel='From')"
   ]
  },
  {
   "cell_type": "code",
   "execution_count": null,
   "metadata": {},
   "outputs": [],
   "source": [
    "fig, axes = plt.subplots(ncols=2,figsize = (24,8))\n",
    "cbar_ax = fig.add_axes([.915, .15, .01,.75])\n",
    "norm = plt.Normalize(-1.0,1.0)\n",
    "ax0 = sns.heatmap( df_metro_scale0pt125_ob0pt5, ax=axes[0], annot=True, annot_kws={\"size\":12}, fmt=\".3f\", vmin=-1.0, vmax=1.0, center=0.0, cmap=plt.cm.RdGy, norm=norm, cbar=0)\n",
    "ax0.set_title('Mean generator matrix for Metropolis-Hastings chain', fontsize='xx-large')\n",
    "ax0.set(xlabel='To', ylabel='From')\n",
    "ax1 = sns.heatmap( df_rao_scale0pt125_ob0pt5, ax=axes[1], annot=True, fmt=\".3f\", vmin=-1.0, vmax=1.0,center=0.0, cmap=plt.cm.RdGy, norm=norm, cbar=1, cbar_ax=cbar_ax )\n",
    "ax1.set_title('Mean generator matrix for Gibbs sampler 2 chain', fontsize='xx-large')\n",
    "ax1.set(xlabel='To', ylabel='From')\n",
    "fig.tight_layout(rect=[0, 0, 0.9, 1.1])\n",
    "cbar = ax1.collections[0].colorbar\n",
    "cbar.set_ticks([ 0.125, -0.5])\n",
    "cbar.set_ticklabels(['True off-diagonal value 0.125', 'True diagonal value -0.5'])\n",
    "fig.savefig(\"generator_comparisson.png\",  bbox_inches='tight')"
   ]
  },
  {
   "cell_type": "code",
   "execution_count": null,
   "metadata": {},
   "outputs": [],
   "source": [
    "df_rao_scale0pt25_ob0pt5 = pd.DataFrame.from_records(M_rao_scale0pt25_ob0pt5)\n",
    "df_rao_scale0pt25_ob0pt5.columns = [\"1\",\"2\",\"3\",\"4\",\"5\"]\n",
    "df_rao_scale0pt25_ob0pt5.index = [\"1\",\"2\",\"3\",\"4\",\"5\"]"
   ]
  },
  {
   "cell_type": "code",
   "execution_count": null,
   "metadata": {},
   "outputs": [],
   "source": [
    "df_metro_scale0pt25_ob0pt5 = pd.DataFrame.from_records(M_metro_scale0pt25_ob0pt5)\n",
    "df_metro_scale0pt25_ob0pt5.columns = [\"1\",\"2\",\"3\",\"4\",\"5\"]\n",
    "df_metro_scale0pt25_ob0pt5.index = [\"1\",\"2\",\"3\",\"4\",\"5\"]"
   ]
  },
  {
   "cell_type": "code",
   "execution_count": null,
   "metadata": {},
   "outputs": [],
   "source": [
    "fig, axes = plt.subplots(ncols=2,figsize = (24,8))\n",
    "cbar_ax = fig.add_axes([.915, .15, .01,.75])\n",
    "norm = plt.Normalize(-1.0,1.0)\n",
    "ax0 = sns.heatmap( df_metro_scale0pt25_ob0pt5, ax=axes[0], annot=True, annot_kws={\"size\":12}, fmt=\".3f\", vmin=-1.0, vmax=1.0, center=0.0, cmap=plt.cm.RdGy, norm=norm, cbar=0)\n",
    "ax0.set_title('Mean generator matrix for Metropolis-Hastings chain', fontsize='xx-large')\n",
    "ax0.set(xlabel='To', ylabel='From')\n",
    "ax1 = sns.heatmap( df_rao_scale0pt25_ob0pt5, ax=axes[1], annot=True, fmt=\".3f\", vmin=-1.0, vmax=1.0,center=0.0, cmap=plt.cm.RdGy, norm=norm, cbar=1, cbar_ax=cbar_ax )\n",
    "ax1.set_title('Mean generator matrix for Gibbs sampler 2 chain', fontsize='xx-large')\n",
    "ax1.set(xlabel='To', ylabel='From')\n",
    "fig.tight_layout(rect=[0, 0, 0.9, 1.1])\n",
    "cbar = ax1.collections[0].colorbar\n",
    "cbar.set_ticks([ 0.125, -0.5])\n",
    "cbar.set_ticklabels(['True off-diagonal value 0.125', 'True diagonal value -0.5'])\n",
    "fig.savefig(\"generator_comparisson.png\",  bbox_inches='tight')"
   ]
  },
  {
   "cell_type": "code",
   "execution_count": null,
   "metadata": {},
   "outputs": [],
   "source": [
    "df_rao_scale0pt5_ob0pt5 = pd.DataFrame.from_records(M_rao_scale0pt5_ob0pt5)\n",
    "df_rao_scale0pt5_ob0pt5.columns = [\"1\",\"2\",\"3\",\"4\",\"5\"]\n",
    "df_rao_scale0pt5_ob0pt5.index = [\"1\",\"2\",\"3\",\"4\",\"5\"]"
   ]
  },
  {
   "cell_type": "code",
   "execution_count": null,
   "metadata": {},
   "outputs": [],
   "source": [
    "df_metro_scale0pt5_ob0pt5 = pd.DataFrame.from_records(M_metro_scale0pt5_ob0pt5)\n",
    "df_metro_scale0pt5_ob0pt5.columns = [\"1\",\"2\",\"3\",\"4\",\"5\"]\n",
    "df_metro_scale0pt5_ob0pt5.index = [\"1\",\"2\",\"3\",\"4\",\"5\"]"
   ]
  },
  {
   "cell_type": "code",
   "execution_count": null,
   "metadata": {},
   "outputs": [],
   "source": [
    "fig, axes = plt.subplots(ncols=2,figsize = (24,8))\n",
    "cbar_ax = fig.add_axes([.915, .15, .01,.75])\n",
    "norm = plt.Normalize(-1.0,1.0)\n",
    "ax0 = sns.heatmap( df_metro_scale0pt5_ob0pt5, ax=axes[0], annot=True, annot_kws={\"size\":12}, fmt=\".3f\", vmin=-1.0, vmax=1.0, center=0.0, cmap=plt.cm.RdGy, norm=norm, cbar=0)\n",
    "ax0.set_title('Mean generator matrix for Metropolis-Hastings chain', fontsize='xx-large')\n",
    "ax0.set(xlabel='To', ylabel='From')\n",
    "ax1 = sns.heatmap( df_rao_scale0pt5_ob0pt5, ax=axes[1], annot=True, fmt=\".3f\", vmin=-1.0, vmax=1.0,center=0.0, cmap=plt.cm.RdGy, norm=norm, cbar=1, cbar_ax=cbar_ax )\n",
    "ax1.set_title('Mean generator matrix for Gibbs sampler 2 chain', fontsize='xx-large')\n",
    "ax1.set(xlabel='To', ylabel='From')\n",
    "fig.tight_layout(rect=[0, 0, 0.9, 1.1])\n",
    "cbar = ax1.collections[0].colorbar\n",
    "cbar.set_ticks([ 0.125, -0.5])\n",
    "cbar.set_ticklabels(['True off-diagonal value 0.125', 'True diagonal value -0.5'])\n",
    "fig.savefig(\"generator_comparisson.png\",  bbox_inches='tight')"
   ]
  },
  {
   "cell_type": "code",
   "execution_count": null,
   "metadata": {},
   "outputs": [],
   "source": []
  }
 ],
 "metadata": {
  "kernelspec": {
   "display_name": "Python 3",
   "language": "python",
   "name": "python3"
  },
  "language_info": {
   "codemirror_mode": {
    "name": "ipython",
    "version": 3
   },
   "file_extension": ".py",
   "mimetype": "text/x-python",
   "name": "python",
   "nbconvert_exporter": "python",
   "pygments_lexer": "ipython3",
   "version": "3.8.5"
  },
  "latex_envs": {
   "LaTeX_envs_menu_present": true,
   "autoclose": false,
   "autocomplete": true,
   "bibliofile": "biblio.bib",
   "cite_by": "apalike",
   "current_citInitial": 1,
   "eqLabelWithNumbers": false,
   "eqNumInitial": 1,
   "hotkeys": {
    "equation": "Ctrl-E",
    "itemize": "Ctrl-I"
   },
   "labels_anchors": false,
   "latex_user_defs": false,
   "report_style_numbering": false,
   "user_envs_cfg": false
  }
 },
 "nbformat": 4,
 "nbformat_minor": 2
}
